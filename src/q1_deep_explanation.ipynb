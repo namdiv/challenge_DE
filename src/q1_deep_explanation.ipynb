{
 "cells": [
  {
   "cell_type": "markdown",
   "metadata": {},
   "source": [
    "## 1. Las top 10 fechas donde hay más tweets más el usuario (username) que más publicaciones tiene por cada uno de esos días."
   ]
  },
  {
   "cell_type": "markdown",
   "metadata": {},
   "source": [
    "### Estructura del notebook: \n",
    "1. Explicación detallada del código\n",
    "2. Revisión de tiempos de ejecución y memoria de q1_time.py y q1_memory.py"
   ]
  },
  {
   "cell_type": "code",
   "execution_count": 6,
   "metadata": {},
   "outputs": [],
   "source": [
    "import pandas as pd"
   ]
  },
  {
   "cell_type": "code",
   "execution_count": 7,
   "metadata": {},
   "outputs": [],
   "source": [
    "def extract_user_id(dicc: dict):\n",
    "    \"\"\" Función específicamente creada para usar junto al método apply, aplicado a una columna de un\n",
    "    dataframe de pandas.\n",
    "    Extrae el id del usuario que viene dentro de la columna user en los datos recibidos.\n",
    "\n",
    "    Args:\n",
    "        dicc (dict): diccionario de los datos del usuario.\n",
    "\n",
    "    Returns:\n",
    "        int: retorna el id del usuario. \n",
    "    \"\"\"\n",
    "    return dicc.get('id')\n",
    "\n",
    "def extract_username(dicc: dict):\n",
    "    \"\"\"Función específicamente creada para usar junto al método apply, aplicado a una columna de un\n",
    "    dataframe de pandas.\n",
    "    Extrae el username del usuario que viene dentro de la columna user en los datos recibidos.\n",
    "\n",
    "    Args:\n",
    "        dicc (dict): diccionario de los datos del usuario.\n",
    "\n",
    "    Returns:\n",
    "        str: retorna el username del usuario.\n",
    "    \"\"\"\n",
    "    return dicc.get('username')"
   ]
  },
  {
   "cell_type": "markdown",
   "metadata": {},
   "source": [
    "### Creamos función con la libreria jsonlines para la lectura de los datos"
   ]
  },
  {
   "cell_type": "code",
   "execution_count": 8,
   "metadata": {},
   "outputs": [],
   "source": [
    "import jsonlines\n",
    "\n",
    "def read_json_lines(file_path: str, cols: list):\n",
    "    \"\"\"Lee un archivo en el cual hay un objeto JSON por línea y devuelve los datos solicitados en un dataframe de pandas.\n",
    "\n",
    "    Args:\n",
    "        file_path (str): path del archivo a leer..\n",
    "        cols (list): lista de \"keys\" de cada JSON que queremos devolver\n",
    "\n",
    "    Returns:\n",
    "        pd.DataFrame: dataframe de pandas con los datos solicitados.\n",
    "    \"\"\"\n",
    "    data = []\n",
    "    with jsonlines.open(file_path) as reader:\n",
    "        for item in reader:\n",
    "            item = {key: item[key] for key in cols if key in item}\n",
    "            data.append(item)\n",
    "    return pd.DataFrame(data)"
   ]
  },
  {
   "cell_type": "markdown",
   "metadata": {},
   "source": [
    "### Visualizamos los datos"
   ]
  },
  {
   "cell_type": "code",
   "execution_count": 9,
   "metadata": {},
   "outputs": [
    {
     "data": {
      "text/html": [
       "<div>\n",
       "<style scoped>\n",
       "    .dataframe tbody tr th:only-of-type {\n",
       "        vertical-align: middle;\n",
       "    }\n",
       "\n",
       "    .dataframe tbody tr th {\n",
       "        vertical-align: top;\n",
       "    }\n",
       "\n",
       "    .dataframe thead th {\n",
       "        text-align: right;\n",
       "    }\n",
       "</style>\n",
       "<table border=\"1\" class=\"dataframe\">\n",
       "  <thead>\n",
       "    <tr style=\"text-align: right;\">\n",
       "      <th></th>\n",
       "      <th>date</th>\n",
       "      <th>id</th>\n",
       "      <th>user</th>\n",
       "    </tr>\n",
       "  </thead>\n",
       "  <tbody>\n",
       "    <tr>\n",
       "      <th>0</th>\n",
       "      <td>2021-02-24T09:23:35+00:00</td>\n",
       "      <td>1364506249291784198</td>\n",
       "      <td>{'username': 'ArjunSinghPanam', 'displayname':...</td>\n",
       "    </tr>\n",
       "    <tr>\n",
       "      <th>1</th>\n",
       "      <td>2021-02-24T09:23:32+00:00</td>\n",
       "      <td>1364506237451313155</td>\n",
       "      <td>{'username': 'PrdeepNain', 'displayname': 'Pra...</td>\n",
       "    </tr>\n",
       "    <tr>\n",
       "      <th>2</th>\n",
       "      <td>2021-02-24T09:23:22+00:00</td>\n",
       "      <td>1364506195453767680</td>\n",
       "      <td>{'username': 'parmarmaninder', 'displayname': ...</td>\n",
       "    </tr>\n",
       "    <tr>\n",
       "      <th>3</th>\n",
       "      <td>2021-02-24T09:23:16+00:00</td>\n",
       "      <td>1364506167226032128</td>\n",
       "      <td>{'username': 'anmoldhaliwal', 'displayname': '...</td>\n",
       "    </tr>\n",
       "    <tr>\n",
       "      <th>4</th>\n",
       "      <td>2021-02-24T09:23:10+00:00</td>\n",
       "      <td>1364506144002088963</td>\n",
       "      <td>{'username': 'KotiaPreet', 'displayname': 'Pre...</td>\n",
       "    </tr>\n",
       "  </tbody>\n",
       "</table>\n",
       "</div>"
      ],
      "text/plain": [
       "                        date                   id  \\\n",
       "0  2021-02-24T09:23:35+00:00  1364506249291784198   \n",
       "1  2021-02-24T09:23:32+00:00  1364506237451313155   \n",
       "2  2021-02-24T09:23:22+00:00  1364506195453767680   \n",
       "3  2021-02-24T09:23:16+00:00  1364506167226032128   \n",
       "4  2021-02-24T09:23:10+00:00  1364506144002088963   \n",
       "\n",
       "                                                user  \n",
       "0  {'username': 'ArjunSinghPanam', 'displayname':...  \n",
       "1  {'username': 'PrdeepNain', 'displayname': 'Pra...  \n",
       "2  {'username': 'parmarmaninder', 'displayname': ...  \n",
       "3  {'username': 'anmoldhaliwal', 'displayname': '...  \n",
       "4  {'username': 'KotiaPreet', 'displayname': 'Pre...  "
      ]
     },
     "execution_count": 9,
     "metadata": {},
     "output_type": "execute_result"
    }
   ],
   "source": [
    "# Lectura de los datos. La estructura de los datos son un objeto JSON por cada fila.\n",
    "file_path = '../../farmers-protest-tweets-2021-2-4.json'\n",
    "cols = ['date', 'id', 'user']\n",
    "df = read_json_lines(file_path, cols)\n",
    "df.head()"
   ]
  },
  {
   "cell_type": "markdown",
   "metadata": {},
   "source": [
    "### Así se ven las columnas que utilizaremos"
   ]
  },
  {
   "cell_type": "code",
   "execution_count": 10,
   "metadata": {},
   "outputs": [
    {
     "data": {
      "text/html": [
       "<div>\n",
       "<style scoped>\n",
       "    .dataframe tbody tr th:only-of-type {\n",
       "        vertical-align: middle;\n",
       "    }\n",
       "\n",
       "    .dataframe tbody tr th {\n",
       "        vertical-align: top;\n",
       "    }\n",
       "\n",
       "    .dataframe thead th {\n",
       "        text-align: right;\n",
       "    }\n",
       "</style>\n",
       "<table border=\"1\" class=\"dataframe\">\n",
       "  <thead>\n",
       "    <tr style=\"text-align: right;\">\n",
       "      <th></th>\n",
       "      <th>date</th>\n",
       "      <th>id</th>\n",
       "      <th>user_id</th>\n",
       "      <th>username</th>\n",
       "    </tr>\n",
       "  </thead>\n",
       "  <tbody>\n",
       "    <tr>\n",
       "      <th>0</th>\n",
       "      <td>2021-02-24</td>\n",
       "      <td>1364506249291784198</td>\n",
       "      <td>45091142</td>\n",
       "      <td>ArjunSinghPanam</td>\n",
       "    </tr>\n",
       "    <tr>\n",
       "      <th>1</th>\n",
       "      <td>2021-02-24</td>\n",
       "      <td>1364506237451313155</td>\n",
       "      <td>1355092620662329349</td>\n",
       "      <td>PrdeepNain</td>\n",
       "    </tr>\n",
       "    <tr>\n",
       "      <th>2</th>\n",
       "      <td>2021-02-24</td>\n",
       "      <td>1364506195453767680</td>\n",
       "      <td>476006247</td>\n",
       "      <td>parmarmaninder</td>\n",
       "    </tr>\n",
       "    <tr>\n",
       "      <th>3</th>\n",
       "      <td>2021-02-24</td>\n",
       "      <td>1364506167226032128</td>\n",
       "      <td>137908912</td>\n",
       "      <td>anmoldhaliwal</td>\n",
       "    </tr>\n",
       "    <tr>\n",
       "      <th>4</th>\n",
       "      <td>2021-02-24</td>\n",
       "      <td>1364506144002088963</td>\n",
       "      <td>1358786390696206337</td>\n",
       "      <td>KotiaPreet</td>\n",
       "    </tr>\n",
       "  </tbody>\n",
       "</table>\n",
       "</div>"
      ],
      "text/plain": [
       "         date                   id              user_id         username\n",
       "0  2021-02-24  1364506249291784198             45091142  ArjunSinghPanam\n",
       "1  2021-02-24  1364506237451313155  1355092620662329349       PrdeepNain\n",
       "2  2021-02-24  1364506195453767680            476006247   parmarmaninder\n",
       "3  2021-02-24  1364506167226032128            137908912    anmoldhaliwal\n",
       "4  2021-02-24  1364506144002088963  1358786390696206337       KotiaPreet"
      ]
     },
     "execution_count": 10,
     "metadata": {},
     "output_type": "execute_result"
    }
   ],
   "source": [
    "# Se agregan las columnas utilizadas para calcular los usernames que tweets realizaron.\n",
    "df['user_id'] = df['user'].apply(extract_user_id)\n",
    "df['username'] = df['user'].apply(extract_username)\n",
    "\n",
    "#Convertimos las fechas de tipo datetime a date \n",
    "df['date'] = pd.to_datetime(df['date'])\n",
    "df['date'] = df['date'].dt.date\n",
    "df[['date', 'id', 'user_id', 'username']].head()"
   ]
  },
  {
   "cell_type": "markdown",
   "metadata": {},
   "source": [
    "### Obtenemos las top 10 fechas con más tweets y filtramos nuestro df por esas fechas"
   ]
  },
  {
   "cell_type": "code",
   "execution_count": 11,
   "metadata": {},
   "outputs": [
    {
     "data": {
      "text/plain": [
       "Index([2021-02-12, 2021-02-13, 2021-02-17, 2021-02-16, 2021-02-14, 2021-02-18,\n",
       "       2021-02-15, 2021-02-20, 2021-02-23, 2021-02-19],\n",
       "      dtype='object', name='date')"
      ]
     },
     "execution_count": 11,
     "metadata": {},
     "output_type": "execute_result"
    }
   ],
   "source": [
    "top_10_dates = df['date'].value_counts().nlargest(10).index\n",
    "df = df.loc[df.date.isin(top_10_dates)]\n",
    "top_10_dates"
   ]
  },
  {
   "cell_type": "markdown",
   "metadata": {},
   "source": [
    "### Creamos una columna llamada \"rnk\" (rank) para saber cuántos tweets realizó cada usuario en cada día."
   ]
  },
  {
   "cell_type": "code",
   "execution_count": 12,
   "metadata": {},
   "outputs": [
    {
     "data": {
      "text/html": [
       "<div>\n",
       "<style scoped>\n",
       "    .dataframe tbody tr th:only-of-type {\n",
       "        vertical-align: middle;\n",
       "    }\n",
       "\n",
       "    .dataframe tbody tr th {\n",
       "        vertical-align: top;\n",
       "    }\n",
       "\n",
       "    .dataframe thead th {\n",
       "        text-align: right;\n",
       "    }\n",
       "</style>\n",
       "<table border=\"1\" class=\"dataframe\">\n",
       "  <thead>\n",
       "    <tr style=\"text-align: right;\">\n",
       "      <th></th>\n",
       "      <th>date</th>\n",
       "      <th>id</th>\n",
       "      <th>user</th>\n",
       "      <th>user_id</th>\n",
       "      <th>username</th>\n",
       "      <th>rnk</th>\n",
       "    </tr>\n",
       "  </thead>\n",
       "  <tbody>\n",
       "    <tr>\n",
       "      <th>40498</th>\n",
       "      <td>2021-02-19</td>\n",
       "      <td>1362639704709992448</td>\n",
       "      <td>{'username': 'Preetm91', 'displayname': 'ਪ੍ਰੀਤ...</td>\n",
       "      <td>1344090487087575045</td>\n",
       "      <td>Preetm91</td>\n",
       "      <td>266</td>\n",
       "    </tr>\n",
       "    <tr>\n",
       "      <th>40497</th>\n",
       "      <td>2021-02-19</td>\n",
       "      <td>1362639706526150657</td>\n",
       "      <td>{'username': 'Preetm91', 'displayname': 'ਪ੍ਰੀਤ...</td>\n",
       "      <td>1344090487087575045</td>\n",
       "      <td>Preetm91</td>\n",
       "      <td>265</td>\n",
       "    </tr>\n",
       "    <tr>\n",
       "      <th>40496</th>\n",
       "      <td>2021-02-19</td>\n",
       "      <td>1362639708178669572</td>\n",
       "      <td>{'username': 'Preetm91', 'displayname': 'ਪ੍ਰੀਤ...</td>\n",
       "      <td>1344090487087575045</td>\n",
       "      <td>Preetm91</td>\n",
       "      <td>264</td>\n",
       "    </tr>\n",
       "    <tr>\n",
       "      <th>40495</th>\n",
       "      <td>2021-02-19</td>\n",
       "      <td>1362639709915148291</td>\n",
       "      <td>{'username': 'Preetm91', 'displayname': 'ਪ੍ਰੀਤ...</td>\n",
       "      <td>1344090487087575045</td>\n",
       "      <td>Preetm91</td>\n",
       "      <td>263</td>\n",
       "    </tr>\n",
       "    <tr>\n",
       "      <th>40494</th>\n",
       "      <td>2021-02-19</td>\n",
       "      <td>1362639711789981700</td>\n",
       "      <td>{'username': 'Preetm91', 'displayname': 'ਪ੍ਰੀਤ...</td>\n",
       "      <td>1344090487087575045</td>\n",
       "      <td>Preetm91</td>\n",
       "      <td>262</td>\n",
       "    </tr>\n",
       "    <tr>\n",
       "      <th>...</th>\n",
       "      <td>...</td>\n",
       "      <td>...</td>\n",
       "      <td>...</td>\n",
       "      <td>...</td>\n",
       "      <td>...</td>\n",
       "      <td>...</td>\n",
       "    </tr>\n",
       "    <tr>\n",
       "      <th>64758</th>\n",
       "      <td>2021-02-16</td>\n",
       "      <td>1361777714563227652</td>\n",
       "      <td>{'username': 'gawdbrar', 'displayname': 'Gurpy...</td>\n",
       "      <td>1334959942315339776</td>\n",
       "      <td>gawdbrar</td>\n",
       "      <td>0</td>\n",
       "    </tr>\n",
       "    <tr>\n",
       "      <th>64762</th>\n",
       "      <td>2021-02-16</td>\n",
       "      <td>1361777445477695488</td>\n",
       "      <td>{'username': 'Jaito_Rajinder', 'displayname': ...</td>\n",
       "      <td>848236856617598982</td>\n",
       "      <td>Jaito_Rajinder</td>\n",
       "      <td>0</td>\n",
       "    </tr>\n",
       "    <tr>\n",
       "      <th>64763</th>\n",
       "      <td>2021-02-16</td>\n",
       "      <td>1361777440083697665</td>\n",
       "      <td>{'username': 'pawan_jyot', 'displayname': 'Paw...</td>\n",
       "      <td>3016698860</td>\n",
       "      <td>pawan_jyot</td>\n",
       "      <td>0</td>\n",
       "    </tr>\n",
       "    <tr>\n",
       "      <th>64766</th>\n",
       "      <td>2021-02-16</td>\n",
       "      <td>1361777135363497986</td>\n",
       "      <td>{'username': 'Lambardar707', 'displayname': 'S...</td>\n",
       "      <td>1268551066343419909</td>\n",
       "      <td>Lambardar707</td>\n",
       "      <td>0</td>\n",
       "    </tr>\n",
       "    <tr>\n",
       "      <th>67723</th>\n",
       "      <td>2021-02-16</td>\n",
       "      <td>1361671560453492739</td>\n",
       "      <td>{'username': 'david_jayanth2', 'displayname': ...</td>\n",
       "      <td>826352320610865155</td>\n",
       "      <td>david_jayanth2</td>\n",
       "      <td>0</td>\n",
       "    </tr>\n",
       "  </tbody>\n",
       "</table>\n",
       "<p>99367 rows × 6 columns</p>\n",
       "</div>"
      ],
      "text/plain": [
       "             date                   id  \\\n",
       "40498  2021-02-19  1362639704709992448   \n",
       "40497  2021-02-19  1362639706526150657   \n",
       "40496  2021-02-19  1362639708178669572   \n",
       "40495  2021-02-19  1362639709915148291   \n",
       "40494  2021-02-19  1362639711789981700   \n",
       "...           ...                  ...   \n",
       "64758  2021-02-16  1361777714563227652   \n",
       "64762  2021-02-16  1361777445477695488   \n",
       "64763  2021-02-16  1361777440083697665   \n",
       "64766  2021-02-16  1361777135363497986   \n",
       "67723  2021-02-16  1361671560453492739   \n",
       "\n",
       "                                                    user              user_id  \\\n",
       "40498  {'username': 'Preetm91', 'displayname': 'ਪ੍ਰੀਤ...  1344090487087575045   \n",
       "40497  {'username': 'Preetm91', 'displayname': 'ਪ੍ਰੀਤ...  1344090487087575045   \n",
       "40496  {'username': 'Preetm91', 'displayname': 'ਪ੍ਰੀਤ...  1344090487087575045   \n",
       "40495  {'username': 'Preetm91', 'displayname': 'ਪ੍ਰੀਤ...  1344090487087575045   \n",
       "40494  {'username': 'Preetm91', 'displayname': 'ਪ੍ਰੀਤ...  1344090487087575045   \n",
       "...                                                  ...                  ...   \n",
       "64758  {'username': 'gawdbrar', 'displayname': 'Gurpy...  1334959942315339776   \n",
       "64762  {'username': 'Jaito_Rajinder', 'displayname': ...   848236856617598982   \n",
       "64763  {'username': 'pawan_jyot', 'displayname': 'Paw...           3016698860   \n",
       "64766  {'username': 'Lambardar707', 'displayname': 'S...  1268551066343419909   \n",
       "67723  {'username': 'david_jayanth2', 'displayname': ...   826352320610865155   \n",
       "\n",
       "             username  rnk  \n",
       "40498        Preetm91  266  \n",
       "40497        Preetm91  265  \n",
       "40496        Preetm91  264  \n",
       "40495        Preetm91  263  \n",
       "40494        Preetm91  262  \n",
       "...               ...  ...  \n",
       "64758        gawdbrar    0  \n",
       "64762  Jaito_Rajinder    0  \n",
       "64763      pawan_jyot    0  \n",
       "64766    Lambardar707    0  \n",
       "67723  david_jayanth2    0  \n",
       "\n",
       "[99367 rows x 6 columns]"
      ]
     },
     "execution_count": 12,
     "metadata": {},
     "output_type": "execute_result"
    }
   ],
   "source": [
    "df['rnk'] = df.groupby(['date', 'user_id']).cumcount()\n",
    "df.sort_values('rnk', ascending=False)"
   ]
  },
  {
   "cell_type": "markdown",
   "metadata": {},
   "source": [
    "### Creamos un nuevo dataframe \"df2\" en el cual realizamos los siguientes pasos: "
   ]
  },
  {
   "cell_type": "markdown",
   "metadata": {},
   "source": [
    "1. Agrupamos por date y user_id y nos quedamos con el máximo valor de rnk. De esta forma obtenemos el usuario que mas veces twiteo por día.\n",
    "\n",
    "ACLARACIÓN IMPORTANTE: podría haber usado el username y no el user_id para ahorrarme un paso, pero no sería una buena práctica ya que el username no es un identificador único y twitter permite cambiarlo.\n",
    "\n",
    "2. Ordenamos el dataframe de mayor a menor y aplicamos un first() por date. Esto nos permite quedarnos con solo un registro por fecha.\n",
    "\n",
    "3. En este paso hacemos un merge con la columna username para obtener el username del usuario que realizó más tweets. Además, por las dudas de que algún usuario haya cambiado su username entre esas fechas y obtengamos registros duplicados, eliminamos el registro duplicado y nos quedamos con el username más reciente (esto lo hacemos con el keep='first')."
   ]
  },
  {
   "cell_type": "code",
   "execution_count": 13,
   "metadata": {},
   "outputs": [
    {
     "data": {
      "text/html": [
       "<div>\n",
       "<style scoped>\n",
       "    .dataframe tbody tr th:only-of-type {\n",
       "        vertical-align: middle;\n",
       "    }\n",
       "\n",
       "    .dataframe tbody tr th {\n",
       "        vertical-align: top;\n",
       "    }\n",
       "\n",
       "    .dataframe thead th {\n",
       "        text-align: right;\n",
       "    }\n",
       "</style>\n",
       "<table border=\"1\" class=\"dataframe\">\n",
       "  <thead>\n",
       "    <tr style=\"text-align: right;\">\n",
       "      <th></th>\n",
       "      <th>date</th>\n",
       "      <th>user_id</th>\n",
       "      <th>rnk</th>\n",
       "      <th>username</th>\n",
       "    </tr>\n",
       "  </thead>\n",
       "  <tbody>\n",
       "    <tr>\n",
       "      <th>0</th>\n",
       "      <td>2021-02-19</td>\n",
       "      <td>1344090487087575045</td>\n",
       "      <td>266</td>\n",
       "      <td>Preetm91</td>\n",
       "    </tr>\n",
       "    <tr>\n",
       "      <th>1</th>\n",
       "      <td>2021-02-18</td>\n",
       "      <td>1355443675631783936</td>\n",
       "      <td>194</td>\n",
       "      <td>neetuanjle_nitu</td>\n",
       "    </tr>\n",
       "    <tr>\n",
       "      <th>2</th>\n",
       "      <td>2021-02-17</td>\n",
       "      <td>1334454542713294849</td>\n",
       "      <td>184</td>\n",
       "      <td>RaaJVinderkaur</td>\n",
       "    </tr>\n",
       "    <tr>\n",
       "      <th>3</th>\n",
       "      <td>2021-02-13</td>\n",
       "      <td>1333757109842939915</td>\n",
       "      <td>177</td>\n",
       "      <td>MaanDee08215437</td>\n",
       "    </tr>\n",
       "    <tr>\n",
       "      <th>4</th>\n",
       "      <td>2021-02-12</td>\n",
       "      <td>1332853294851530753</td>\n",
       "      <td>175</td>\n",
       "      <td>RanbirS00614606</td>\n",
       "    </tr>\n",
       "    <tr>\n",
       "      <th>5</th>\n",
       "      <td>2021-02-23</td>\n",
       "      <td>217105273</td>\n",
       "      <td>134</td>\n",
       "      <td>Surrypuria</td>\n",
       "    </tr>\n",
       "    <tr>\n",
       "      <th>6</th>\n",
       "      <td>2021-02-15</td>\n",
       "      <td>452391771</td>\n",
       "      <td>133</td>\n",
       "      <td>jot__b</td>\n",
       "    </tr>\n",
       "    <tr>\n",
       "      <th>7</th>\n",
       "      <td>2021-02-16</td>\n",
       "      <td>452391771</td>\n",
       "      <td>132</td>\n",
       "      <td>jot__b</td>\n",
       "    </tr>\n",
       "    <tr>\n",
       "      <th>8</th>\n",
       "      <td>2021-02-14</td>\n",
       "      <td>1354532795847073796</td>\n",
       "      <td>118</td>\n",
       "      <td>rebelpacifist</td>\n",
       "    </tr>\n",
       "    <tr>\n",
       "      <th>9</th>\n",
       "      <td>2021-02-20</td>\n",
       "      <td>1342840568666189825</td>\n",
       "      <td>107</td>\n",
       "      <td>MangalJ23056160</td>\n",
       "    </tr>\n",
       "  </tbody>\n",
       "</table>\n",
       "</div>"
      ],
      "text/plain": [
       "         date              user_id  rnk         username\n",
       "0  2021-02-19  1344090487087575045  266         Preetm91\n",
       "1  2021-02-18  1355443675631783936  194  neetuanjle_nitu\n",
       "2  2021-02-17  1334454542713294849  184   RaaJVinderkaur\n",
       "3  2021-02-13  1333757109842939915  177  MaanDee08215437\n",
       "4  2021-02-12  1332853294851530753  175  RanbirS00614606\n",
       "5  2021-02-23            217105273  134       Surrypuria\n",
       "6  2021-02-15            452391771  133           jot__b\n",
       "7  2021-02-16            452391771  132           jot__b\n",
       "8  2021-02-14  1354532795847073796  118    rebelpacifist\n",
       "9  2021-02-20  1342840568666189825  107  MangalJ23056160"
      ]
     },
     "execution_count": 13,
     "metadata": {},
     "output_type": "execute_result"
    }
   ],
   "source": [
    "df2 = df[['date', 'user_id', 'rnk']].\\\n",
    "                    groupby(['date', 'user_id'], as_index=False).max().\\\n",
    "                    sort_values('rnk', ascending=False).\\\n",
    "                    groupby(['date'], as_index=False).first().\\\n",
    "                    sort_values('rnk', ascending=False).\\\n",
    "                    merge(df[['user_id', 'username']].drop_duplicates(keep='first'), how='left', on='user_id')\n",
    "\n",
    "df2"
   ]
  },
  {
   "cell_type": "markdown",
   "metadata": {},
   "source": [
    "### El método to_records() nos permite obtener un array de tuplas de las columnas del dataframe."
   ]
  },
  {
   "cell_type": "code",
   "execution_count": 14,
   "metadata": {},
   "outputs": [
    {
     "data": {
      "text/plain": [
       "rec.array([(datetime.date(2021, 2, 19), 1344090487087575045, 266, 'Preetm91'),\n",
       "           (datetime.date(2021, 2, 18), 1355443675631783936, 194, 'neetuanjle_nitu'),\n",
       "           (datetime.date(2021, 2, 17), 1334454542713294849, 184, 'RaaJVinderkaur'),\n",
       "           (datetime.date(2021, 2, 13), 1333757109842939915, 177, 'MaanDee08215437'),\n",
       "           (datetime.date(2021, 2, 12), 1332853294851530753, 175, 'RanbirS00614606'),\n",
       "           (datetime.date(2021, 2, 23),           217105273, 134, 'Surrypuria'),\n",
       "           (datetime.date(2021, 2, 15),           452391771, 133, 'jot__b'),\n",
       "           (datetime.date(2021, 2, 16),           452391771, 132, 'jot__b'),\n",
       "           (datetime.date(2021, 2, 14), 1354532795847073796, 118, 'rebelpacifist'),\n",
       "           (datetime.date(2021, 2, 20), 1342840568666189825, 107, 'MangalJ23056160')],\n",
       "          dtype=[('date', 'O'), ('user_id', '<i8'), ('rnk', '<i8'), ('username', 'O')])"
      ]
     },
     "execution_count": 14,
     "metadata": {},
     "output_type": "execute_result"
    }
   ],
   "source": [
    "q1_records = df2.to_records(index=False)\n",
    "q1_records"
   ]
  },
  {
   "cell_type": "markdown",
   "metadata": {},
   "source": [
    "### Retornamos solo las columnas solicitadas en el ejercicio."
   ]
  },
  {
   "cell_type": "code",
   "execution_count": 15,
   "metadata": {},
   "outputs": [
    {
     "data": {
      "text/plain": [
       "[(datetime.date(2021, 2, 19), 'Preetm91'),\n",
       " (datetime.date(2021, 2, 18), 'neetuanjle_nitu'),\n",
       " (datetime.date(2021, 2, 17), 'RaaJVinderkaur'),\n",
       " (datetime.date(2021, 2, 13), 'MaanDee08215437'),\n",
       " (datetime.date(2021, 2, 12), 'RanbirS00614606'),\n",
       " (datetime.date(2021, 2, 23), 'Surrypuria'),\n",
       " (datetime.date(2021, 2, 15), 'jot__b'),\n",
       " (datetime.date(2021, 2, 16), 'jot__b'),\n",
       " (datetime.date(2021, 2, 14), 'rebelpacifist'),\n",
       " (datetime.date(2021, 2, 20), 'MangalJ23056160')]"
      ]
     },
     "execution_count": 15,
     "metadata": {},
     "output_type": "execute_result"
    }
   ],
   "source": [
    "[(row.date, row.username) for row in q1_records]"
   ]
  },
  {
   "cell_type": "markdown",
   "metadata": {},
   "source": [
    "----\n",
    "## Repaso de tiempos de ejecución de q1_time.py y q1_memory.py"
   ]
  },
  {
   "cell_type": "markdown",
   "metadata": {},
   "source": [
    "### Tiempo de ejecución de la función q1_time y q1_memory, nombrada como q1"
   ]
  },
  {
   "cell_type": "code",
   "execution_count": null,
   "metadata": {},
   "outputs": [],
   "source": [
    "import cProfile\n",
    "\n",
    "def q1(file_path: str):\n",
    "\n",
    "    df = read_json_lines(file_path, cols=['date', 'user', 'id'])\n",
    "\n",
    "    df['user_id'] = df['user'].apply(extract_user_id)\n",
    "    df['username'] = df['user'].apply(extract_username)\n",
    "\n",
    "    df['date'] = pd.to_datetime(df['date'])\n",
    "    df['date'] = df['date'].dt.date\n",
    "\n",
    "    top_10_dates = df['date'].value_counts().nlargest(10).index\n",
    "    df = df.loc[df.date.isin(top_10_dates)]\n",
    "\n",
    "    df['rnk'] = df.groupby(['date', 'user_id']).cumcount()\n",
    "\n",
    "    df2 = df[['date', 'user_id', 'rnk']].\\\n",
    "                        groupby(['date', 'user_id'], as_index=False).max().\\\n",
    "                        sort_values('rnk', ascending=False).\\\n",
    "                        groupby(['date'], as_index=False).first().\\\n",
    "                        sort_values('rnk', ascending=False).\\\n",
    "                        merge(df[['user_id', 'username']].drop_duplicates(keep='first'), how='left', on='user_id')\n",
    "\n",
    "    q1_records = df2.to_records(index=False)\n",
    "    \n",
    "    return [(row.date, row.username) for row in q1_records]\n",
    "\n",
    "cProfile.run(\"q1('../farmers-protest-tweets-2021-2-4.json')\")\n"
   ]
  },
  {
   "cell_type": "markdown",
   "metadata": {},
   "source": [
    "### Resultados obtenidos en la terminal"
   ]
  },
  {
   "cell_type": "code",
   "execution_count": null,
   "metadata": {},
   "outputs": [],
   "source": [
    "#         2983048 function calls (2982726 primitive calls) in 2.916 seconds\n",
    "#\n",
    "#   Ordered by: standard name\n",
    "#\n",
    "#   ncalls  tottime  percall  cumtime  percall filename:lineno(function)\n",
    "#        1    0.035    0.035    2.853    2.853 3072196544.py:11(q1_time)\n",
    "#        1    0.099    0.099    2.390    2.390 3072196544.py:2(read_json_lines)\n",
    "#        1    0.000    0.000    0.000    0.000 3072196544.py:35(<listcomp>)\n",
    "#   117407    0.033    0.000    0.033    0.000 3072196544.py:6(<dictcomp>)\n",
    "#   117407    0.013    0.000    0.040    0.000 4170275938.py:1(extract_user_id)\n",
    "#   117407    0.013    0.000    0.040    0.000 4170275938.py:14(extract_username)\n",
    "#        1    0.000    0.000    0.000    0.000 <attrs generated init jsonlines.jsonlines.Reader>:1(__init__)\n",
    "#       91    0.000    0.000    0.000    0.000 <frozen abc>:117(__instancecheck__)\n",
    "#        1    0.000    0.000    0.000    0.000 <frozen codecs>:260(__init__)\n",
    "#        1    0.000    0.000    0.000    0.000 <frozen codecs>:309(__init__)\n",
    "#    49772    0.020    0.000    0.059    0.000 <frozen codecs>:319(decode)\n",
    "#        7    0.000    0.000    0.000    0.000 <frozen importlib._bootstrap>:1207(_handle_fromlist)\n",
    "#        1    0.062    0.062    2.916    2.916 <string>:1(<module>)"
   ]
  },
  {
   "cell_type": "markdown",
   "metadata": {},
   "source": [
    "### Uso de memoria de q1"
   ]
  },
  {
   "cell_type": "markdown",
   "metadata": {},
   "source": [
    "### Resultados obtenidos en la terminal"
   ]
  },
  {
   "cell_type": "code",
   "execution_count": null,
   "metadata": {},
   "outputs": [],
   "source": [
    "#Line #    Mem usage    Increment  Occurrences   Line Contents\n",
    "#=============================================================\n",
    "#    43     94.5 MiB     94.5 MiB           1   @profile\n",
    "#    44                                         def q1_time(file_path: str):\n",
    "#    45                                         \n",
    "#    46    482.6 MiB    388.1 MiB           1       df = read_json_lines(file_path, cols=['date', 'user', 'id'])\n",
    "#    47                                         \n",
    "#    48    488.3 MiB      5.7 MiB           1       df['user_id'] = df['user'].apply(extract_user_id)\n",
    "#    49    488.7 MiB      0.4 MiB           1       df['username'] = df['user'].apply(extract_username)\n",
    "#    50                                         \n",
    "#    51    492.1 MiB      3.5 MiB           1       df['date'] = pd.to_datetime(df['date'])\n",
    "#    52    496.6 MiB      4.5 MiB           1       df['date'] = df['date'].dt.date\n",
    "#    53                                         \n",
    "#    54    497.0 MiB      0.4 MiB           1       top_10_dates = df['date'].value_counts().nlargest(10).index\n",
    "#    55    469.6 MiB    -27.4 MiB           1       df = df.loc[df.date.isin(top_10_dates)]\n",
    "#    56                                         \n",
    "#    57    475.0 MiB      5.4 MiB           1       df['rnk'] = df.groupby(['date', 'user_id']).cumcount()\n",
    "#    58                                         \n",
    "#    59    479.6 MiB      0.0 MiB           2       df2 = df[['date', 'user_id', 'rnk']].\\\n",
    "#    60    479.2 MiB      4.3 MiB           1                           groupby(['date', 'user_id'], as_index=False).max().\\\n",
    "#    61    479.2 MiB      0.0 MiB           1                           sort_values('rnk', ascending=False).\\\n",
    "#    62    479.3 MiB      0.1 MiB           1                           groupby(['date'], as_index=False).first().\\\n",
    "#    63    479.3 MiB      0.0 MiB           1                           sort_values('rnk', ascending=False).\\\n",
    "#    64    479.6 MiB      0.3 MiB           1                           merge(df[['user_id', 'username']].drop_duplicates(keep='first'), how='left', on='user_id')\n",
    "#    65                                         \n",
    "#    66    479.6 MiB      0.0 MiB           1       q1_records = df2.to_records(index=False)\n",
    "#    67                                             \n",
    "#    68    479.6 MiB      0.0 MiB          13       return [(row.date, row.username) for row in q1_records]"
   ]
  },
  {
   "cell_type": "markdown",
   "metadata": {},
   "source": [
    "## Conclusiones:\n",
    "\n",
    "- En este ejercicio, a diferencia de los demás, q1_time y q1_memory quedaron iguales. En principio, se utilizaba pd.read_json() para leer los datos pero luego de implementar la librería jsonlines, el consumo de memoria y la velocidad mejoró significativamente.\n",
    "- Opté por no implementar un enfoque en particiones (chuncksize) como en los ejercicios 2 y 3 debido a que en este ejercicio es necesario hacer varios groupby en todo el dataset.\n",
    "- La creación del dataframe \"df2\" tiene potencial para ser mejorada en rendimiento y velocidad."
   ]
  }
 ],
 "metadata": {
  "kernelspec": {
   "display_name": "challenge_env",
   "language": "python",
   "name": "python3"
  },
  "language_info": {
   "codemirror_mode": {
    "name": "ipython",
    "version": 3
   },
   "file_extension": ".py",
   "mimetype": "text/x-python",
   "name": "python",
   "nbconvert_exporter": "python",
   "pygments_lexer": "ipython3",
   "version": "3.11.5"
  },
  "orig_nbformat": 4
 },
 "nbformat": 4,
 "nbformat_minor": 2
}
