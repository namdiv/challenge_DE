{
 "cells": [
  {
   "cell_type": "markdown",
   "metadata": {},
   "source": [
    "## 3. El top 10 histórico de usuarios (username) más influyentes en función del conteo de las menciones (@) que registra cada uno de ellos."
   ]
  },
  {
   "cell_type": "markdown",
   "metadata": {},
   "source": [
    "### Estructura del notebook: \n",
    "1. Explicación detallada del código\n",
    "2. Revisión de tiempos de ejecución y memoria de q1_time.py y q1_memory.py"
   ]
  },
  {
   "cell_type": "code",
   "execution_count": 1,
   "metadata": {},
   "outputs": [],
   "source": [
    "import pandas as pd\n",
    "import emoji\n",
    "from collections import Counter"
   ]
  },
  {
   "cell_type": "code",
   "execution_count": 28,
   "metadata": {},
   "outputs": [],
   "source": [
    "def extract_mentioned_users(user_list: list):\n",
    "    \"\"\"Extrae los usernames de la lista de diccionarios que trae la columna mentionedUsers.\n",
    "\n",
    "    Args:\n",
    "        user_list (list): lista de diccionarios de los usuarios mencionados.\n",
    "\n",
    "    Returns:\n",
    "        list: lista con los nombres (str) de los usuarios mencionados.\n",
    "    \"\"\"\n",
    "    if type(user_list)==list:\n",
    "        return [e.get('username') for e in user_list]\n",
    "\n",
    "def get_most_common_elements(elements: list, n:int =10):\n",
    "    \"\"\"Extrae los n elementos más comunes de una lista junto con su respectivo conteo.\n",
    "\n",
    "    Args:\n",
    "        elements (list): lista de elementos que deseamos contar.\n",
    "        n (int, optional): cantidad de elementos que deseamos obtener. Devuelve los 10 más comunes por defecto.\n",
    "\n",
    "    Returns:\n",
    "        list: lista de tuplas con los elementos más comunes y su conteo. Ejemplo [(elem1, 15), (elem2, 12), (elem3, 7),...]\n",
    "    \"\"\"\n",
    "    _counter = Counter(elements)\n",
    "    most_common_elements = _counter.most_common(n)\n",
    "    return most_common_elements"
   ]
  },
  {
   "cell_type": "markdown",
   "metadata": {},
   "source": [
    "### Lectura de los datos. La estructura de los datos son un objeto JSON por cada fila."
   ]
  },
  {
   "cell_type": "code",
   "execution_count": 30,
   "metadata": {},
   "outputs": [],
   "source": [
    "file_path = \"../farmers-protest-tweets-2021-2-4.json\"\n",
    "df = pd.read_json(path_or_buf=file_path, lines=True)"
   ]
  },
  {
   "cell_type": "markdown",
   "metadata": {},
   "source": [
    "### Creamos una columna en la que cada registro es una lista con los usuarios mencionados en dicho registro."
   ]
  },
  {
   "cell_type": "code",
   "execution_count": 31,
   "metadata": {},
   "outputs": [
    {
     "data": {
      "text/plain": [
       "0         [narendramodi, DelhiPolice]\n",
       "1                   [Kisanektamorcha]\n",
       "2                                None\n",
       "3           [ReallySwara, rohini_sgh]\n",
       "4                                None\n",
       "                     ...             \n",
       "117402                           None\n",
       "117403                           None\n",
       "117404                           None\n",
       "117405                           None\n",
       "117406              [Kisanektamorcha]\n",
       "Name: mentionedUsers_username, Length: 117407, dtype: object"
      ]
     },
     "execution_count": 31,
     "metadata": {},
     "output_type": "execute_result"
    }
   ],
   "source": [
    "df['mentionedUsers_username'] = df['mentionedUsers'].apply(extract_mentioned_users)\n",
    "df.mentionedUsers_username"
   ]
  },
  {
   "cell_type": "markdown",
   "metadata": {},
   "source": [
    "### Concatenamos todas las menciones en una sola lista, para luego realizar el conteo."
   ]
  },
  {
   "cell_type": "code",
   "execution_count": 5,
   "metadata": {},
   "outputs": [
    {
     "data": {
      "text/plain": [
       "['narendramodi',\n",
       " 'DelhiPolice',\n",
       " 'Kisanektamorcha',\n",
       " 'ReallySwara',\n",
       " 'rohini_sgh',\n",
       " 'mandeeppunia1',\n",
       " 'mandeeppunia1',\n",
       " 'akshaykumar',\n",
       " 'taapsee',\n",
       " 'PetroleumMin']"
      ]
     },
     "execution_count": 5,
     "metadata": {},
     "output_type": "execute_result"
    }
   ],
   "source": [
    "mentionedUsers_list = []\n",
    "for each_list in df.mentionedUsers_username.dropna():\n",
    "    mentionedUsers_list += each_list\n",
    "\n",
    "# Muestra de 10 elementos\n",
    "mentionedUsers_list[0:10]"
   ]
  },
  {
   "cell_type": "markdown",
   "metadata": {},
   "source": [
    "### Devolvemos la salida de la función get_most_common_elements con los 10 usuarios más mencionados."
   ]
  },
  {
   "cell_type": "code",
   "execution_count": 6,
   "metadata": {},
   "outputs": [
    {
     "data": {
      "text/plain": [
       "[('narendramodi', 2265),\n",
       " ('Kisanektamorcha', 1840),\n",
       " ('RakeshTikaitBKU', 1644),\n",
       " ('PMOIndia', 1427),\n",
       " ('RahulGandhi', 1146),\n",
       " ('GretaThunberg', 1048),\n",
       " ('RaviSinghKA', 1019),\n",
       " ('rihanna', 986),\n",
       " ('UNHumanRights', 962),\n",
       " ('meenaharris', 926)]"
      ]
     },
     "execution_count": 6,
     "metadata": {},
     "output_type": "execute_result"
    }
   ],
   "source": [
    "get_most_common_elements(mentionedUsers_list)"
   ]
  },
  {
   "cell_type": "markdown",
   "metadata": {},
   "source": [
    "## Tiempo de ejecución de q3_time"
   ]
  },
  {
   "cell_type": "code",
   "execution_count": null,
   "metadata": {},
   "outputs": [],
   "source": [
    "import jsonlines\n",
    "import cProfile\n",
    "\n",
    "def read_json_lines(file_path, cols):\n",
    "    data = []\n",
    "    with jsonlines.open(file_path) as reader:\n",
    "        for item in reader:\n",
    "            item = {key: item[key] for key in cols if key in item}\n",
    "            data.append(item)\n",
    "    return pd.DataFrame(data)\n",
    "\n",
    "def q3_time(file_path: str):\n",
    "\n",
    "    # Lectura de datos.\n",
    "    df = read_json_lines(file_path=file_path, cols=['mentionedUsers'])\n",
    "\n",
    "    # Creamos una columna en la que cada registro es una lista con los usuarios mencionados en dicho registro.\n",
    "    df['mentionedUsers_username'] = df['mentionedUsers'].apply(extract_mentioned_users)\n",
    "\n",
    "    # Concatenamos todas las menciones en una sola lista, para luego realizar el conteo.\n",
    "    mentionedUsers_list = []\n",
    "    for each_list in df.mentionedUsers_username.dropna():\n",
    "        mentionedUsers_list += each_list\n",
    "\n",
    "    # Devolvemos la salida de la función get_most_common_elements con los 10 usuarios más mencionados.\n",
    "    return get_most_common_elements(mentionedUsers_list)\n",
    "\n",
    "cProfile.run(\"q3_time(file_path=file_path)\")"
   ]
  },
  {
   "cell_type": "code",
   "execution_count": null,
   "metadata": {},
   "outputs": [],
   "source": [
    "#         2640306 function calls (2640281 primitive calls) in 2.382 seconds\n",
    "#\n",
    "#   Ordered by: standard name\n",
    "#\n",
    "#   ncalls  tottime  percall  cumtime  percall filename:lineno(function)\n",
    "#        1    0.016    0.016    2.339    2.339 1085778305.py:12(q3_time)\n",
    "#        1    0.118    0.118    2.238    2.238 1085778305.py:4(read_json_lines)\n",
    "#   117407    0.020    0.000    0.020    0.000 1085778305.py:8(<dictcomp>)\n",
    "#   117407    0.012    0.000    0.052    0.000 4271483172.py:1(extract_mentioned_users)\n",
    "#    38034    0.023    0.000    0.040    0.000 4271483172.py:11(<listcomp>)\n",
    "#        1    0.000    0.000    0.017    0.017 4271483172.py:13(get_most_common_elements)\n",
    "#        1    0.000    0.000    0.000    0.000 <attrs generated init jsonlines.jsonlines.Reader>:1(__init__)\n",
    "#       12    0.000    0.000    0.000    0.000 <frozen abc>:117(__instancecheck__)\n",
    "#      4/1    0.000    0.000    0.000    0.000 <frozen abc>:121(__subclasscheck__)"
   ]
  },
  {
   "cell_type": "markdown",
   "metadata": {},
   "source": [
    "## Consumo de memoria de q3_time"
   ]
  },
  {
   "cell_type": "code",
   "execution_count": null,
   "metadata": {},
   "outputs": [],
   "source": [
    "#Line #    Mem usage    Increment  Occurrences   Line Contents\n",
    "#=============================================================\n",
    "#    83    102.8 MiB    102.8 MiB           1   @profile\n",
    "#    84                                         def q3_time(file_path: str):\n",
    "#    85                                         \n",
    "#    86                                             # Lectura de datos.\n",
    "#    87    254.8 MiB    152.0 MiB           1       df = read_json_lines(file_path=file_path, cols=['mentionedUsers'])\n",
    "#    88                                         \n",
    "#    89                                             # Creamos una columna en la que cada registro es una lista con los usuarios mencionados en dicho registro.\n",
    "#    90    256.2 MiB      1.4 MiB           1       df['mentionedUsers_username'] = df['mentionedUsers'].apply(extract_mentioned_users)\n",
    "#    91                                         \n",
    "#    92                                             # Concatenamos todas las menciones en una sola lista, para luego realizar el conteo.\n",
    "#    93    256.2 MiB      0.0 MiB           1       mentionedUsers_list = []\n",
    "#    94    256.3 MiB      0.0 MiB       38035       for each_list in df.mentionedUsers_username.dropna():\n",
    "#    95    256.3 MiB      0.0 MiB       38034           mentionedUsers_list += each_list\n",
    "#    96                                         \n",
    "#    97                                             # Devolvemos la salida de la función get_most_common_elements con los 10 usuarios más mencionados.\n",
    "#    98    256.7 MiB      0.4 MiB           1       return get_most_common_elements(mentionedUsers_list)"
   ]
  },
  {
   "cell_type": "markdown",
   "metadata": {},
   "source": [
    "## Tiempo de ejecución de q3_memory"
   ]
  },
  {
   "cell_type": "code",
   "execution_count": null,
   "metadata": {},
   "outputs": [],
   "source": [
    "def q3_memory(file_path: str):\n",
    "    mentionedUsers_username = []\n",
    "    for chunk in pd.read_json(path_or_buf=file_path, lines=True, chunksize=50):\n",
    "        users = chunk['mentionedUsers'].apply(extract_mentioned_users)\n",
    "        mentionedUsers_username.extend(users)\n",
    "\n",
    "    mentionedUsers_list = []\n",
    "    for each_list in mentionedUsers_username:\n",
    "        if each_list is not None:\n",
    "            mentionedUsers_list += each_list\n",
    "\n",
    "    return get_most_common_elements(mentionedUsers_list)\n",
    "\n",
    "cProfile.run(\"q3_memory(file_path=file_path)\")"
   ]
  },
  {
   "cell_type": "code",
   "execution_count": null,
   "metadata": {},
   "outputs": [],
   "source": [
    "#         38332526 function calls (37583195 primitive calls) in 16.743 seconds\n",
    "#\n",
    "#   Ordered by: standard name\n",
    "#\n",
    "#   ncalls  tottime  percall  cumtime  percall filename:lineno(function)\n",
    "#        1    0.291    0.291   16.740   16.740 1062425245.py:1(q3_memory)\n",
    "#   117407    0.021    0.000    0.049    0.000 2027096754.py:1(extract_mentioned_users)\n",
    "#    38034    0.018    0.000    0.028    0.000 2027096754.py:11(<listcomp>)\n",
    "#        1    0.000    0.000    0.013    0.013 2027096754.py:13(get_most_common_elements)\n",
    "#   263098    0.037    0.000    0.066    0.000 <frozen abc>:117(__instancecheck__)\n",
    "#        1    0.000    0.000    0.000    0.000 <frozen codecs>:260(__init__)\n",
    "#        1    0.000    0.000    0.000    0.000 <frozen codecs>:309(__init__)\n",
    "#    49773    0.016    0.000    0.044    0.000 <frozen codecs>:319(decode)\n",
    "#        1    0.000    0.000    0.000    0.000 <frozen genericpath>:16(exists)\n",
    "#    18792    0.009    0.000    0.012    0.000 <frozen importlib._bootstrap>:1207(_handle_fromlist)\n",
    "#        5    0.000    0.000    0.000    0.000 <frozen posixpath>:229(expanduser)\n",
    "#        2    0.000    0.000    0.000    0.000 <string>:1(<lambda>)\n",
    "#        1    0.004    0.004   16.743   16.743 <string>:1(<module>)\n",
    "#        1    0.000    0.000    0.000    0.000 <string>:2(__init__)\n",
    "#    18792    0.006    0.000    0.027    0.000 __init__.py:225(compile)"
   ]
  },
  {
   "cell_type": "markdown",
   "metadata": {},
   "source": [
    "## Consumo de memoria de q3_memory"
   ]
  },
  {
   "cell_type": "code",
   "execution_count": null,
   "metadata": {},
   "outputs": [],
   "source": [
    "#Line #    Mem usage    Increment  Occurrences   Line Contents\n",
    "#=============================================================\n",
    "#    83    101.9 MiB    101.9 MiB           1   @profile\n",
    "#    84                                         def q3_memory(file_path: str):\n",
    "#    85    101.9 MiB      0.0 MiB           1       mentionedUsers_username = []\n",
    "#    86    122.4 MiB     20.5 MiB        2350       for chunk in pd.read_json(path_or_buf=file_path, lines=True, chunksize=50):\n",
    "#    87    122.4 MiB      0.0 MiB        2349           users = chunk['mentionedUsers'].apply(extract_mentioned_users)\n",
    "#    88    122.4 MiB      0.0 MiB        2349           mentionedUsers_username.extend(users)\n",
    "#    89                                         \n",
    "#    90    122.4 MiB      0.0 MiB           1       mentionedUsers_list = []\n",
    "#    91    122.4 MiB      0.0 MiB      117408       for each_list in mentionedUsers_username:\n",
    "#    92    122.4 MiB      0.0 MiB      117407           if each_list is not None:\n",
    "#    93    122.4 MiB      0.0 MiB       38034               mentionedUsers_list += each_list\n",
    "#    94                                         \n",
    "#    95    122.4 MiB      0.0 MiB           1       return get_most_common_elements(mentionedUsers_list)"
   ]
  },
  {
   "cell_type": "markdown",
   "metadata": {},
   "source": [
    "## Conclusiones\n",
    "\n",
    "- En la función q3_time leemos los datos usando la librería jsonlines que permite una lectura rápida y además, no es necesario leer todas las \"keys\" que trae cada JSON. Por lo tanto, tampoco consume mucha memoria.\n",
    "- En la función q3_memory leemos los datos utilizando el método de pandas pd.read_json(), el cual nos permite leer los datos en particiones utilizando el parámetro chuncksize. Se pierde mucha velocidad ya que hay que repetir todo el código para cada partición, pero se ahorra memoria.\n",
    "- Si bien en este ejemplo el ahorro de memoria no es significativo, a gran escala, la columna \"content\" podría tener millones de millones de datos y entonces el enfoque de q3_memory comenzaría a tomar una gran importancia en el ahorro de memoria."
   ]
  }
 ],
 "metadata": {
  "kernelspec": {
   "display_name": "challenge_env",
   "language": "python",
   "name": "python3"
  },
  "language_info": {
   "codemirror_mode": {
    "name": "ipython",
    "version": 3
   },
   "file_extension": ".py",
   "mimetype": "text/x-python",
   "name": "python",
   "nbconvert_exporter": "python",
   "pygments_lexer": "ipython3",
   "version": "3.11.5"
  }
 },
 "nbformat": 4,
 "nbformat_minor": 2
}
